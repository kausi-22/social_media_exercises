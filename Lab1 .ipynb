{
 "cells": [
  {
   "cell_type": "markdown",
   "metadata": {},
   "source": [
    "Roll no.: 215229145<br>\n",
    "Name.: Yokeshwaran G"
   ]
  },
  {
   "cell_type": "markdown",
   "metadata": {},
   "source": [
    "# Lab 1. Real time crawling of tweets from Twitter and creating a network of user mentions"
   ]
  },
  {
   "cell_type": "markdown",
   "metadata": {},
   "source": [
    "### Step 1: Install and import tweepy library"
   ]
  },
  {
   "cell_type": "code",
   "execution_count": 1,
   "metadata": {},
   "outputs": [],
   "source": [
    "import os\n",
    "import tweepy as tw\n",
    "import pandas as pd"
   ]
  },
  {
   "cell_type": "markdown",
   "metadata": {},
   "source": [
    "### Step 2: Sign up your twitter developer account and obtain the following credentials (https://developer.twitter.com/en)¶"
   ]
  },
  {
   "cell_type": "code",
   "execution_count": 2,
   "metadata": {},
   "outputs": [],
   "source": [
    "consumer_key= 'GuEy6CRFi4F0peJmNUQYxuk1C'\n",
    "consumer_secret= '9xM4cPM1c2qoKbL4seKpUUioednhBmJMOlp4OsxYJuBMXzT08T'\n",
    "access_token= '1551438660360622080-mgDW8nKmuLOOPbvOv5m5yRYcFIN3we'\n",
    "access_token_secret= 'tLXXaZAk2rxj8TLz751M4vIYDZNzDVGW0DoDhS1IhxZsp'"
   ]
  },
  {
   "cell_type": "markdown",
   "metadata": {},
   "source": [
    "### Step 3: Using the above credentials get yourself authorized to stream real time tweets using the code snippet below"
   ]
  },
  {
   "cell_type": "code",
   "execution_count": 3,
   "metadata": {},
   "outputs": [],
   "source": [
    "auth = tw.OAuthHandler(consumer_key, consumer_secret)\n",
    "auth.set_access_token(access_token, access_token_secret)\n",
    "api = tw.API(auth,wait_on_rate_limit=True)"
   ]
  },
  {
   "cell_type": "code",
   "execution_count": 4,
   "metadata": {},
   "outputs": [],
   "source": [
    "MY_BEARER_TOKEN = \"AAAAAAAAAAAAAAAAAAAAAPfTfAEAAAAAp4rugNXvCARjoXALTtN1%2BISo1BQ%3DrAqgcaifiSyI8M3bM97XFkK7GuQtK4g64RkXPll4apGxF4ngsI\"\n",
    "\n",
    "# create your client\n",
    "client = tw.Client(bearer_token=MY_BEARER_TOKEN)"
   ]
  },
  {
   "cell_type": "code",
   "execution_count": 5,
   "metadata": {},
   "outputs": [],
   "source": [
    "# query to search for tweets\n",
    "query = \"#varisu\"\n",
    "\n",
    "\n",
    "# get tweets from the API\n",
    "tweets = client.search_recent_tweets(query=query,\n",
    "                                     tweet_fields = [\"created_at\", \"text\", \"source\"],\n",
    "                                     user_fields = [\"name\", \"username\", \"location\", \"verified\", \"description\"],\n",
    "                                     max_results = 10,\n",
    "                                     expansions='author_id'\n",
    "                                     )"
   ]
  },
  {
   "cell_type": "code",
   "execution_count": 6,
   "metadata": {},
   "outputs": [
    {
     "data": {
      "text/plain": [
       "Response(data=[<Tweet id=1553272593557458949 text='RT @TTBVideosPage: Happy Friendship Day❤️\\U0001faf6\\n\\n#Varisu @actorvijay #Beast https://t.co/nfJFKkVk1G'>, <Tweet id=1553272592563576832 text='RT @Sherloc38254757: #TheLegend trailer hits 31M+ views...first for any #Tamil movie with 3min+ trailer cut  \\n&gt;&gt;&gt;&gt;#Vijay #Suriya #AjithKuma…'>, <Tweet id=1553272592349675522 text='RT @Mithra_22: International Freindship day Nanba nanbi💚❤🤩🤩 😍😍😍\\n\\nBut my special all time Harini  😍😍miss u di #varisu @actorvijay #Internati…'>, <Tweet id=1553272582962438144 text='RT @KarthikMdr3: Actor @realsarathkumar about #Varisu 😍🔥\\n\\n#Thalapathy @actorvijay is NO 1 😎 https://t.co/JzNU0qn0qx'>, <Tweet id=1553272573894742016 text='RT @PeaceBrwVJ: Lucky Fanboy @Actorvijay ! #Varisu https://t.co/gnpuYN2Bgi'>, <Tweet id=1553272571147145218 text='@PSILINDA21 @JohnWickTN82 #Thalapathy67 #Varisu #Beast https://t.co/ADvuEHCzpZ'>, <Tweet id=1553272569804992512 text='RT @Roxito_X11: Happiest Friendship Day To All The Friends Here.❤️💯 Luv You Guys! 💟🍀 &lt; 3\\n\\n#Varisu #Beast @actorvijay #Thalapathy67 https://…'>, <Tweet id=1553272556508958720 text='RT @Roxito_X11: Happiest Friendship Day To All The Friends Here.❤️💯 Luv You Guys! 💟🍀 &lt; 3\\n\\n#Varisu #Beast @actorvijay #Thalapathy67 https://…'>, <Tweet id=1553272543175249922 text='RT @sunnewstamil: #Cinemaupdate | வாரிசு கதைக்களம் - சரத்குமார் கொடுத்த மெர்சல் அப்டேட்!\\n\\n#Sunnews | #Varisu | #Sarathkumar | #VIjay | #Tha…'>, <Tweet id=1553272542332424192 text='RT @TTB_Offl: Happy Friendship Day All❤️\\U0001faf6\\n\\nTag Your Friends in Comment With Our Tags✌️\\n\\n#Varisu @actorvijay #Beast https://t.co/dx8Vp4lpnG'>], includes={'users': [<User id=1384785274060869638 name=Harish Kishan username=HarishKishan27>, <User id=1179936268622405632 name=rolex (fake) username=n_d__t>, <User id=390682190 name=Arpit Bhatnagar username=Chairwarmer>, <User id=1517149951783882756 name=Thalapathy brand🔥💥 username=Ashwini14675036>, <User id=1295184018695008256 name=Allu™ •Vijay™ username=Allu__Vijay>, <User id=1551193713333850113 name=John Wick username=JohnWickTN82>, <User id=1476891452726722587 name=ɪ_ᴀᴍ_ꜱʜʀɪʜᴀʀꜱʜᴀ _ ᵀⱽᴶᶠ 🕊️🤍... username=MAAYON_7_HARSHA>, <User id=1271684563262005248 name=Barath TVF😎 username=Barath_Tvf>, <User id=1480083550644826113 name=Thousif username=Thousifdon786>]}, errors=[], meta={'newest_id': '1553272593557458949', 'oldest_id': '1553272542332424192', 'result_count': 10, 'next_token': 'b26v89c19zqg8o3fpz5ldnjy1v992dnmyou2spfujcf3x'})"
      ]
     },
     "execution_count": 6,
     "metadata": {},
     "output_type": "execute_result"
    }
   ],
   "source": [
    "tweets"
   ]
  },
  {
   "cell_type": "markdown",
   "metadata": {},
   "source": [
    "### Step 4: Using the API object search tweets of your interest using a particular hashtag"
   ]
  },
  {
   "cell_type": "code",
   "execution_count": 7,
   "metadata": {},
   "outputs": [
    {
     "data": {
      "text/html": [
       "<div>\n",
       "<style scoped>\n",
       "    .dataframe tbody tr th:only-of-type {\n",
       "        vertical-align: middle;\n",
       "    }\n",
       "\n",
       "    .dataframe tbody tr th {\n",
       "        vertical-align: top;\n",
       "    }\n",
       "\n",
       "    .dataframe thead th {\n",
       "        text-align: right;\n",
       "    }\n",
       "</style>\n",
       "<table border=\"1\" class=\"dataframe\">\n",
       "  <thead>\n",
       "    <tr style=\"text-align: right;\">\n",
       "      <th></th>\n",
       "      <th>created_at</th>\n",
       "      <th>text</th>\n",
       "      <th>source</th>\n",
       "      <th>name</th>\n",
       "      <th>username</th>\n",
       "      <th>location</th>\n",
       "      <th>verified</th>\n",
       "      <th>description</th>\n",
       "    </tr>\n",
       "  </thead>\n",
       "  <tbody>\n",
       "    <tr>\n",
       "      <th>0</th>\n",
       "      <td>2022-07-30 06:53:39+00:00</td>\n",
       "      <td>RT @TTBVideosPage: Happy Friendship Day❤️🫶\\n\\n...</td>\n",
       "      <td>Twitter Web App</td>\n",
       "      <td>Harish Kishan</td>\n",
       "      <td>HarishKishan27</td>\n",
       "      <td>None</td>\n",
       "      <td>False</td>\n",
       "      <td>THALAPATHY Fanatic , #Csk , #Gvp</td>\n",
       "    </tr>\n",
       "    <tr>\n",
       "      <th>1</th>\n",
       "      <td>2022-07-30 06:53:39+00:00</td>\n",
       "      <td>RT @Sherloc38254757: #TheLegend trailer hits 3...</td>\n",
       "      <td>Twitter for Android</td>\n",
       "      <td>rolex (fake)</td>\n",
       "      <td>n_d__t</td>\n",
       "      <td>None</td>\n",
       "      <td>False</td>\n",
       "      <td></td>\n",
       "    </tr>\n",
       "    <tr>\n",
       "      <th>2</th>\n",
       "      <td>2022-07-30 06:53:39+00:00</td>\n",
       "      <td>RT @Mithra_22: International Freindship day Na...</td>\n",
       "      <td>Twitter for Android</td>\n",
       "      <td>Arpit Bhatnagar</td>\n",
       "      <td>Chairwarmer</td>\n",
       "      <td>Shikohabad, India</td>\n",
       "      <td>False</td>\n",
       "      <td></td>\n",
       "    </tr>\n",
       "    <tr>\n",
       "      <th>3</th>\n",
       "      <td>2022-07-30 06:53:36+00:00</td>\n",
       "      <td>RT @KarthikMdr3: Actor @realsarathkumar about ...</td>\n",
       "      <td>Twitter for Android</td>\n",
       "      <td>Thalapathy brand🔥💥</td>\n",
       "      <td>Ashwini14675036</td>\n",
       "      <td>Tamil Nadu, India</td>\n",
       "      <td>False</td>\n",
       "      <td>@actorvijay ♥ 🔥💥\\n🎶fan page 🌺</td>\n",
       "    </tr>\n",
       "    <tr>\n",
       "      <th>4</th>\n",
       "      <td>2022-07-30 06:53:34+00:00</td>\n",
       "      <td>RT @PeaceBrwVJ: Lucky Fanboy @Actorvijay ! #Va...</td>\n",
       "      <td>Twitter for Android</td>\n",
       "      <td>Allu™ •Vijay™</td>\n",
       "      <td>Allu__Vijay</td>\n",
       "      <td>None</td>\n",
       "      <td>False</td>\n",
       "      <td>Love - @alluarjun , @actorvijay, @msdhoni , @S...</td>\n",
       "    </tr>\n",
       "  </tbody>\n",
       "</table>\n",
       "</div>"
      ],
      "text/plain": [
       "                 created_at  \\\n",
       "0 2022-07-30 06:53:39+00:00   \n",
       "1 2022-07-30 06:53:39+00:00   \n",
       "2 2022-07-30 06:53:39+00:00   \n",
       "3 2022-07-30 06:53:36+00:00   \n",
       "4 2022-07-30 06:53:34+00:00   \n",
       "\n",
       "                                                text               source  \\\n",
       "0  RT @TTBVideosPage: Happy Friendship Day❤️🫶\\n\\n...      Twitter Web App   \n",
       "1  RT @Sherloc38254757: #TheLegend trailer hits 3...  Twitter for Android   \n",
       "2  RT @Mithra_22: International Freindship day Na...  Twitter for Android   \n",
       "3  RT @KarthikMdr3: Actor @realsarathkumar about ...  Twitter for Android   \n",
       "4  RT @PeaceBrwVJ: Lucky Fanboy @Actorvijay ! #Va...  Twitter for Android   \n",
       "\n",
       "                 name         username           location  verified  \\\n",
       "0       Harish Kishan   HarishKishan27               None     False   \n",
       "1        rolex (fake)           n_d__t               None     False   \n",
       "2     Arpit Bhatnagar      Chairwarmer  Shikohabad, India     False   \n",
       "3  Thalapathy brand🔥💥  Ashwini14675036  Tamil Nadu, India     False   \n",
       "4       Allu™ •Vijay™      Allu__Vijay               None     False   \n",
       "\n",
       "                                         description  \n",
       "0                   THALAPATHY Fanatic , #Csk , #Gvp  \n",
       "1                                                     \n",
       "2                                                     \n",
       "3                      @actorvijay ♥ 🔥💥\\n🎶fan page 🌺  \n",
       "4  Love - @alluarjun , @actorvijay, @msdhoni , @S...  "
      ]
     },
     "execution_count": 7,
     "metadata": {},
     "output_type": "execute_result"
    }
   ],
   "source": [
    "import pandas as pd\n",
    "# create a list of records\n",
    "tweet_info_ls = []\n",
    "# iterate over each tweet and corresponding user details\n",
    "for tweet, user in zip(tweets.data, tweets.includes['users']):\n",
    "    tweet_info = {\n",
    "        'created_at': tweet.created_at,\n",
    "        'text': tweet.text,\n",
    "        'source': tweet.source,\n",
    "        'name': user.name,\n",
    "        'username': user.username,\n",
    "        'location': user.location,\n",
    "        'verified': user.verified,\n",
    "        'description': user.description\n",
    "    }\n",
    "    tweet_info_ls.append(tweet_info)\n",
    "# create dataframe from the extracted records\n",
    "tweets_df = pd.DataFrame(tweet_info_ls)\n",
    "# display the dataframe\n",
    "tweets_df.head()"
   ]
  },
  {
   "cell_type": "markdown",
   "metadata": {},
   "source": [
    "### Step 6: Import the networkx package"
   ]
  },
  {
   "cell_type": "code",
   "execution_count": 8,
   "metadata": {},
   "outputs": [],
   "source": [
    "import networkx as nx"
   ]
  },
  {
   "cell_type": "markdown",
   "metadata": {},
   "source": [
    "### Step 7: First create a basic network with few nodes and edges"
   ]
  },
  {
   "cell_type": "code",
   "execution_count": 9,
   "metadata": {},
   "outputs": [
    {
     "data": {
      "text/plain": [
       "NodeView(('A', 'B'))"
      ]
     },
     "execution_count": 9,
     "metadata": {},
     "output_type": "execute_result"
    }
   ],
   "source": [
    "G= nx.Graph()\n",
    "G.add_nodes_from([\"A\",\"B\"])\n",
    "G.add_edge('A',\"B\")\n",
    "G.nodes()"
   ]
  },
  {
   "cell_type": "code",
   "execution_count": 10,
   "metadata": {},
   "outputs": [],
   "source": [
    "G.nodes['A']['Age']=21\n",
    "G.nodes['B']['Age']=22\n",
    "G.edges['A','B']['Friendship']= '2019/04/21'"
   ]
  },
  {
   "cell_type": "code",
   "execution_count": 11,
   "metadata": {},
   "outputs": [
    {
     "data": {
      "text/plain": [
       "NodeDataView({'A': {'Age': 21}, 'B': {'Age': 22}})"
      ]
     },
     "execution_count": 11,
     "metadata": {},
     "output_type": "execute_result"
    }
   ],
   "source": [
    "G.nodes(data=True)"
   ]
  },
  {
   "cell_type": "code",
   "execution_count": 12,
   "metadata": {},
   "outputs": [
    {
     "data": {
      "text/plain": [
       "EdgeView([('A', 'B'), (1, 2)])"
      ]
     },
     "execution_count": 12,
     "metadata": {},
     "output_type": "execute_result"
    }
   ],
   "source": [
    "G.add_edge(1, 2)\n",
    "G.edges()"
   ]
  },
  {
   "cell_type": "code",
   "execution_count": 13,
   "metadata": {},
   "outputs": [
    {
     "data": {
      "text/plain": [
       "EdgeDataView([('A', 'B', {'Friendship': '2019/04/21'}), (1, 2, {})])"
      ]
     },
     "execution_count": 13,
     "metadata": {},
     "output_type": "execute_result"
    }
   ],
   "source": [
    "G.edges(data= True)"
   ]
  },
  {
   "cell_type": "code",
   "execution_count": 14,
   "metadata": {},
   "outputs": [],
   "source": [
    "eg=[(1,2),(1,3),(1,4),(1,5),(1,6)]\n",
    "H=nx.Graph(eg)"
   ]
  },
  {
   "cell_type": "code",
   "execution_count": 15,
   "metadata": {},
   "outputs": [
    {
     "data": {
      "image/png": "[encoded data removed]",
      "text/plain": [
       "<Figure size 432x288 with 1 Axes>"
      ]
     },
     "metadata": {},
     "output_type": "display_data"
    }
   ],
   "source": [
    "nx.draw(H)"
   ]
  },
  {
   "cell_type": "code",
   "execution_count": null,
   "metadata": {},
   "outputs": [],
   "source": []
  }
 ],
 "metadata": {
  "kernelspec": {
   "display_name": "Python 3",
   "language": "python",
   "name": "python3"
  },
  "language_info": {
   "codemirror_mode": {
    "name": "ipython",
    "version": 3
   },
   "file_extension": ".py",
   "mimetype": "text/x-python",
   "name": "python",
   "nbconvert_exporter": "python",
   "pygments_lexer": "ipython3",
   "version": "3.8.8"
  }
 },
 "nbformat": 4,
 "nbformat_minor": 2
}
