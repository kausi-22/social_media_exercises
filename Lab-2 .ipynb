{
 "cells": [
  {
   "cell_type": "markdown",
   "id": "dc60a809",
   "metadata": {},
   "source": [
    "Roll no.: 215229145<br>\n",
    "Name.: Yokeshwaran G"
   ]
  },
  {
   "cell_type": "markdown",
   "id": "1dce277c",
   "metadata": {},
   "source": [
    "# Lab 2. Querying user’s connection information using Facebook Graph API and retrieving feed and engagement"
   ]
  },
  {
   "cell_type": "markdown",
   "id": "8eb6b15e",
   "metadata": {},
   "source": [
    "### Step 1:\n",
    "\n",
    "To get started, log in to your Facebook account and go\n",
    "to https://developers.facebook.com/tools/explorer/ to obtain an ACCESS_TOKEN, and then\n",
    "paste it into the code cell below."
   ]
  },
  {
   "cell_type": "code",
   "execution_count": 1,
   "id": "349b0757",
   "metadata": {},
   "outputs": [],
   "source": [
    "ACCESS_TOKEN=\"EAAI11NX4O3kBACZBEMjFhwt76qbUl3sDFwh4RAeEqG2wvkYexZA78MnnIGV596BueW3ZA1csVAfZBesVSqRdeybIpAtbD6LnVYjPmHIJEErZBPFVF0xLhZCORT0FIq71aQlk3XrsRn8q3IoXx31Dg6b9E8Yqvuvd4XJrxdRfcmbrVeoFYMpBC4aHMGhru2NlZCO0UBmusw9N9ZAZCZBuIZCOTJTv3QrFrX1xQvZAFwHVkj251LarZCiFLqZBZCr\""
   ]
  },
  {
   "cell_type": "markdown",
   "id": "516f3b59",
   "metadata": {},
   "source": [
    "### Step 2: Install the necessary libraries"
   ]
  },
  {
   "cell_type": "code",
   "execution_count": 2,
   "id": "c19092cc",
   "metadata": {},
   "outputs": [],
   "source": [
    "import facebook\n",
    "import urllib3\n",
    "import requests\n",
    "import json"
   ]
  },
  {
   "cell_type": "code",
   "execution_count": 3,
   "id": "1166c9c4",
   "metadata": {},
   "outputs": [
    {
     "name": "stdout",
     "output_type": "stream",
     "text": [
      "Requirement already satisfied: facebook-sdk in c:\\users\\yokes\\anaconda3\\lib\\site-packages (3.1.0)\n",
      "Requirement already satisfied: requests in c:\\users\\yokes\\anaconda3\\lib\\site-packages (from facebook-sdk) (2.28.1)\n",
      "Requirement already satisfied: certifi>=2017.4.17 in c:\\users\\yokes\\anaconda3\\lib\\site-packages (from requests->facebook-sdk) (2020.12.5)\n",
      "Requirement already satisfied: charset-normalizer<3,>=2 in c:\\users\\yokes\\anaconda3\\lib\\site-packages (from requests->facebook-sdk) (2.1.0)\n",
      "Requirement already satisfied: idna<4,>=2.5 in c:\\users\\yokes\\anaconda3\\lib\\site-packages (from requests->facebook-sdk) (2.10)\n",
      "Requirement already satisfied: urllib3<1.27,>=1.21.1 in c:\\users\\yokes\\anaconda3\\lib\\site-packages (from requests->facebook-sdk) (1.26.4)\n"
     ]
    }
   ],
   "source": [
    "!pip install facebook-sdk"
   ]
  },
  {
   "cell_type": "markdown",
   "id": "9842ce1d",
   "metadata": {},
   "source": [
    "### Step 3: Querying the Graph API with Python"
   ]
  },
  {
   "cell_type": "code",
   "execution_count": 4,
   "id": "e78ac1f5",
   "metadata": {},
   "outputs": [
    {
     "name": "stdout",
     "output_type": "stream",
     "text": [
      "{\n",
      " \"name\": \"Yokeshvaran G\",\n",
      " \"id\": \"1071637547061207\"\n",
      "}\n"
     ]
    }
   ],
   "source": [
    "def pp(o):\n",
    "    print(json.dumps(o, indent=1))\n",
    "g = facebook.GraphAPI(ACCESS_TOKEN, version='2.10')\n",
    "pp(g.get_object('me'))"
   ]
  },
  {
   "cell_type": "markdown",
   "id": "a9a2f606",
   "metadata": {},
   "source": [
    "### Step 4: Get the user's connection names - likes , friends, feed, groups- This may require permissions"
   ]
  },
  {
   "cell_type": "code",
   "execution_count": 5,
   "id": "4c8130df",
   "metadata": {
    "scrolled": true
   },
   "outputs": [
    {
     "name": "stdout",
     "output_type": "stream",
     "text": [
      "{\n",
      " \"data\": [\n",
      "  {\n",
      "   \"name\": \"MexicanGueys\",\n",
      "   \"id\": \"869940703071798\",\n",
      "   \"created_time\": \"2021-06-13T12:51:27+0000\"\n",
      "  },\n",
      "  {\n",
      "   \"name\": \"The Latte Art \\u62c9\\u82b1\\u5496\\u5561\",\n",
      "   \"id\": \"1427244820895194\",\n",
      "   \"created_time\": \"2021-04-27T18:32:01+0000\"\n",
      "  }\n",
      " ],\n",
      " \"paging\": {\n",
      "  \"cursors\": {\n",
      "   \"before\": \"ODY5OTQwNzAzMDcxNzk4\",\n",
      "   \"after\": \"MTQyNzI0NDgyMDg5NTE5NAZDZD\"\n",
      "  }\n",
      " }\n",
      "}\n",
      "{\n",
      " \"data\": [],\n",
      " \"summary\": {\n",
      "  \"total_count\": 692\n",
      " }\n",
      "}\n",
      "{\n",
      " \"data\": [\n",
      "  {\n",
      "   \"created_time\": \"2022-05-09T13:52:41+0000\",\n",
      "   \"id\": \"1071637547061207_1018635669028062\"\n",
      "  },\n",
      "  {\n",
      "   \"created_time\": \"2020-01-11T14:20:31+0000\",\n",
      "   \"id\": \"1071637547061207_472922523599382\"\n",
      "  },\n",
      "  {\n",
      "   \"created_time\": \"2019-12-13T02:14:16+0000\",\n",
      "   \"id\": \"1071637547061207_447806609444307\"\n",
      "  },\n",
      "  {\n",
      "   \"created_time\": \"2019-05-25T15:36:44+0000\",\n",
      "   \"id\": \"1071637547061207_310710616487241\"\n",
      "  },\n",
      "  {\n",
      "   \"created_time\": \"2019-02-27T13:52:34+0000\",\n",
      "   \"id\": \"1071637547061207_263527907872179\"\n",
      "  },\n",
      "  {\n",
      "   \"created_time\": \"2019-02-27T13:51:16+0000\",\n",
      "   \"id\": \"1071637547061207_263527477872222\"\n",
      "  },\n",
      "  {\n",
      "   \"created_time\": \"2018-09-26T15:54:47+0000\",\n",
      "   \"id\": \"1071637547061207_174941803397457\"\n",
      "  },\n",
      "  {\n",
      "   \"created_time\": \"2018-09-26T15:54:41+0000\",\n",
      "   \"id\": \"1071637547061207_174941763397461\"\n",
      "  },\n",
      "  {\n",
      "   \"created_time\": \"2018-08-21T03:28:06+0000\",\n",
      "   \"id\": \"1071637547061207_160131434878494\"\n",
      "  },\n",
      "  {\n",
      "   \"created_time\": \"2018-06-21T13:22:28+0000\",\n",
      "   \"message\": \"Only enjoy\",\n",
      "   \"id\": \"1071637547061207_130428307848807\"\n",
      "  },\n",
      "  {\n",
      "   \"created_time\": \"2018-06-03T17:35:50+0000\",\n",
      "   \"id\": \"1071637547061207_114224776135827\"\n",
      "  },\n",
      "  {\n",
      "   \"created_time\": \"2001-05-05T07:00:00+0000\",\n",
      "   \"id\": \"1071637547061207_263528331205470\"\n",
      "  }\n",
      " ],\n",
      " \"paging\": {\n",
      "  \"previous\": \"https://graph.facebook.com/v14.0/1071637547061207/feed?access_token=EAAI11NX4O3kBACZBEMjFhwt76qbUl3sDFwh4RAeEqG2wvkYexZA78MnnIGV596BueW3ZA1csVAfZBesVSqRdeybIpAtbD6LnVYjPmHIJEErZBPFVF0xLhZCORT0FIq71aQlk3XrsRn8q3IoXx31Dg6b9E8Yqvuvd4XJrxdRfcmbrVeoFYMpBC4aHMGhru2NlZCO0UBmusw9N9ZAZCZBuIZCOTJTv3QrFrX1xQvZAFwHVkj251LarZCiFLqZBZCr&__previous=1&since=1652104361&until&__paging_token=enc_AdC9mUuMQzwdRxs8UZASURDyAX4FTrQTmcwpEkgHpLZA8eUlvEkZBzki33ou2IsCIctZAZB9dylaZCMxm9LvDcuo7AKhb0h8l4hTpzDKMZAJ33csCTLH3tZCMdcxgwp0fPgOEQT6riz2JSQZBGmuORnyZCT94La52y\",\n",
      "  \"next\": \"https://graph.facebook.com/v14.0/1071637547061207/feed?access_token=EAAI11NX4O3kBACZBEMjFhwt76qbUl3sDFwh4RAeEqG2wvkYexZA78MnnIGV596BueW3ZA1csVAfZBesVSqRdeybIpAtbD6LnVYjPmHIJEErZBPFVF0xLhZCORT0FIq71aQlk3XrsRn8q3IoXx31Dg6b9E8Yqvuvd4XJrxdRfcmbrVeoFYMpBC4aHMGhru2NlZCO0UBmusw9N9ZAZCZBuIZCOTJTv3QrFrX1xQvZAFwHVkj251LarZCiFLqZBZCr&until=989046000&since&__paging_token=enc_AdBTEEvoOYTdabMZATaBawi4R454ZBZCpIdrVohxFjjaoxkb8gCn9mKK0rko6KxZBW7oTzJdCE9KaTHcqROwbWfq4C5PtgZBMIZCegFl9aGSWa39ZCfCyPP8ZBzzSXLe0ymig0X92ynYqmf1f5Yjfwtazqrq2uXP&__previous\"\n",
      " }\n",
      "}\n",
      "{\n",
      " \"data\": []\n",
      "}\n"
     ]
    }
   ],
   "source": [
    "pp(g.get_connections(id='me', connection_name='likes'))\n",
    "pp(g.get_connections(id='me', connection_name='friends'))\n",
    "pp(g.get_connections(id='me', connection_name='feed'))\n",
    "pp(g.get_connections(id='me', connection_name='groups'))"
   ]
  },
  {
   "cell_type": "markdown",
   "id": "c09d98d8",
   "metadata": {},
   "source": [
    "### Step 5: Get Information about a feed in your facebook page"
   ]
  },
  {
   "cell_type": "code",
   "execution_count": 6,
   "id": "59e829c5",
   "metadata": {
    "scrolled": true
   },
   "outputs": [
    {
     "name": "stdout",
     "output_type": "stream",
     "text": [
      "{\n",
      " \"data\": [\n",
      "  {\n",
      "   \"id\": \"1071637547061207_1018635669028062\"\n",
      "  },\n",
      "  {\n",
      "   \"id\": \"1071637547061207_472922523599382\"\n",
      "  },\n",
      "  {\n",
      "   \"id\": \"1071637547061207_447806609444307\"\n",
      "  },\n",
      "  {\n",
      "   \"id\": \"1071637547061207_310710616487241\"\n",
      "  },\n",
      "  {\n",
      "   \"id\": \"1071637547061207_263527907872179\"\n",
      "  },\n",
      "  {\n",
      "   \"id\": \"1071637547061207_263527477872222\"\n",
      "  },\n",
      "  {\n",
      "   \"id\": \"1071637547061207_174941803397457\"\n",
      "  },\n",
      "  {\n",
      "   \"id\": \"1071637547061207_174941763397461\"\n",
      "  },\n",
      "  {\n",
      "   \"id\": \"1071637547061207_160131434878494\"\n",
      "  },\n",
      "  {\n",
      "   \"id\": \"1071637547061207_130428307848807\"\n",
      "  },\n",
      "  {\n",
      "   \"id\": \"1071637547061207_114224776135827\"\n",
      "  },\n",
      "  {\n",
      "   \"id\": \"1071637547061207_263528331205470\"\n",
      "  }\n",
      " ],\n",
      " \"paging\": {\n",
      "  \"previous\": \"https://graph.facebook.com/v14.0/1071637547061207/feed?access_token=EAAI11NX4O3kBACZBEMjFhwt76qbUl3sDFwh4RAeEqG2wvkYexZA78MnnIGV596BueW3ZA1csVAfZBesVSqRdeybIpAtbD6LnVYjPmHIJEErZBPFVF0xLhZCORT0FIq71aQlk3XrsRn8q3IoXx31Dg6b9E8Yqvuvd4XJrxdRfcmbrVeoFYMpBC4aHMGhru2NlZCO0UBmusw9N9ZAZCZBuIZCOTJTv3QrFrX1xQvZAFwHVkj251LarZCiFLqZBZCr&fields=information&__previous=1&since=1652104361&until&__paging_token=enc_AdC9mUuMQzwdRxs8UZASURDyAX4FTrQTmcwpEkgHpLZA8eUlvEkZBzki33ou2IsCIctZAZB9dylaZCMxm9LvDcuo7AKhb0h8l4hTpzDKMZAJ33csCTLH3tZCMdcxgwp0fPgOEQT6riz2JSQZBGmuORnyZCT94La52y\",\n",
      "  \"next\": \"https://graph.facebook.com/v14.0/1071637547061207/feed?access_token=EAAI11NX4O3kBACZBEMjFhwt76qbUl3sDFwh4RAeEqG2wvkYexZA78MnnIGV596BueW3ZA1csVAfZBesVSqRdeybIpAtbD6LnVYjPmHIJEErZBPFVF0xLhZCORT0FIq71aQlk3XrsRn8q3IoXx31Dg6b9E8Yqvuvd4XJrxdRfcmbrVeoFYMpBC4aHMGhru2NlZCO0UBmusw9N9ZAZCZBuIZCOTJTv3QrFrX1xQvZAFwHVkj251LarZCiFLqZBZCr&fields=information&until=989046000&since&__paging_token=enc_AdBTEEvoOYTdabMZATaBawi4R454ZBZCpIdrVohxFjjaoxkb8gCn9mKK0rko6KxZBW7oTzJdCE9KaTHcqROwbWfq4C5PtgZBMIZCegFl9aGSWa39ZCfCyPP8ZBzzSXLe0ymig0X92ynYqmf1f5Yjfwtazqrq2uXP&__previous\"\n",
      " }\n",
      "}\n"
     ]
    }
   ],
   "source": [
    "pp(g.get_connections(id='me', connection_name='feed', fields='information', limit='100'))"
   ]
  },
  {
   "cell_type": "markdown",
   "id": "8421126e",
   "metadata": {},
   "source": [
    "### Step 6: Get the metrics towards engagement of connections towards your Facebook post¶"
   ]
  },
  {
   "cell_type": "code",
   "execution_count": 7,
   "id": "0f1b105a",
   "metadata": {
    "scrolled": true
   },
   "outputs": [
    {
     "name": "stdout",
     "output_type": "stream",
     "text": [
      "{\n",
      " \"data\": [\n",
      "  {\n",
      "   \"created_time\": \"2022-05-09T13:52:41+0000\",\n",
      "   \"id\": \"1071637547061207_1018635669028062\"\n",
      "  },\n",
      "  {\n",
      "   \"created_time\": \"2020-01-11T14:20:31+0000\",\n",
      "   \"id\": \"1071637547061207_472922523599382\"\n",
      "  },\n",
      "  {\n",
      "   \"created_time\": \"2019-12-13T02:14:16+0000\",\n",
      "   \"id\": \"1071637547061207_447806609444307\"\n",
      "  },\n",
      "  {\n",
      "   \"created_time\": \"2019-05-25T15:36:44+0000\",\n",
      "   \"description\": \"\\u0b8f\\u0bb4\\u0bc8 \\u0bae\\u0bbe\\u0ba3\\u0bb5\\u0bb0\\u0bcd\\u0b95\\u0bb3\\u0bcd \\u0baa\\u0b9f\\u0bbf\\u0b95\\u0bcd\\u0b95\\u0bc1\\u0bae\\u0bcd \\u0b85\\u0bb0\\u0b9a\\u0bc1 \\u0ba8\\u0b9f\\u0bc1\\u0ba8\\u0bbf\\u0bb2\\u0bc8\\u0baa\\u0bcd \\u0baa\\u0bb3\\u0bcd\\u0bb3\\u0bbf\\u0baf\\u0bbf\\u0bb2\\u0bcd, \\u0ba8\\u0bc6\\u0b95\\u0bbf\\u0bb4\\u0bb5\\u0bc8\\u0b95\\u0bcd\\u0b95\\u0bc1\\u0bae\\u0bcd \\u0bae\\u0bbe\\u0bb1\\u0bcd\\u0bb1\\u0bc1\\u0ba4\\u0bcd\\u0ba4\\u0bbf\\u0bb1\\u0ba9\\u0bbe\\u0bb3\\u0bbf \\u0b86\\u0b9a\\u0bbf\\u0bb0\\u0bbf\\u0baf\\u0bc8\\u0baf\\u0bbf\\u0ba9\\u0bcd \\u0bae\\u0ba9\\u0bbf\\u0ba4\\u0ba8\\u0bc7\\u0baf\\u0bae\\u0bcd\\n#Cuddalore | #Teacher | #GovernementSchool\",\n",
      "   \"id\": \"1071637547061207_310710616487241\"\n",
      "  },\n",
      "  {\n",
      "   \"created_time\": \"2019-02-27T13:52:34+0000\",\n",
      "   \"id\": \"1071637547061207_263527907872179\"\n",
      "  },\n",
      "  {\n",
      "   \"created_time\": \"2019-02-27T13:51:16+0000\",\n",
      "   \"id\": \"1071637547061207_263527477872222\"\n",
      "  },\n",
      "  {\n",
      "   \"created_time\": \"2018-09-26T15:54:47+0000\",\n",
      "   \"id\": \"1071637547061207_174941803397457\"\n",
      "  },\n",
      "  {\n",
      "   \"created_time\": \"2018-09-26T15:54:41+0000\",\n",
      "   \"id\": \"1071637547061207_174941763397461\"\n",
      "  },\n",
      "  {\n",
      "   \"created_time\": \"2018-08-21T03:28:06+0000\",\n",
      "   \"id\": \"1071637547061207_160131434878494\"\n",
      "  },\n",
      "  {\n",
      "   \"created_time\": \"2018-06-21T13:22:28+0000\",\n",
      "   \"id\": \"1071637547061207_130428307848807\"\n",
      "  },\n",
      "  {\n",
      "   \"created_time\": \"2018-06-03T17:35:50+0000\",\n",
      "   \"id\": \"1071637547061207_114224776135827\"\n",
      "  },\n",
      "  {\n",
      "   \"caption\": \"Born\",\n",
      "   \"created_time\": \"2001-05-05T07:00:00+0000\",\n",
      "   \"id\": \"1071637547061207_263528331205470\"\n",
      "  }\n",
      " ],\n",
      " \"paging\": {\n",
      "  \"previous\": \"https://graph.facebook.com/v14.0/1071637547061207/posts?access_token=EAAI11NX4O3kBACZBEMjFhwt76qbUl3sDFwh4RAeEqG2wvkYexZA78MnnIGV596BueW3ZA1csVAfZBesVSqRdeybIpAtbD6LnVYjPmHIJEErZBPFVF0xLhZCORT0FIq71aQlk3XrsRn8q3IoXx31Dg6b9E8Yqvuvd4XJrxdRfcmbrVeoFYMpBC4aHMGhru2NlZCO0UBmusw9N9ZAZCZBuIZCOTJTv3QrFrX1xQvZAFwHVkj251LarZCiFLqZBZCr&fields=caption%2Ccreated_time%2Cdescription&__previous=1&since=1652104361&until&__paging_token=enc_AdC9mUuMQzwdRxs8UZASURDyAX4FTrQTmcwpEkgHpLZA8eUlvEkZBzki33ou2IsCIctZAZB9dylaZCMxm9LvDcuo7AKhb0h8l4hTpzDKMZAJ33csCTLH3tZCMdcxgwp0fPgOEQT6riz2JSQZBGmuORnyZCT94La52y\",\n",
      "  \"next\": \"https://graph.facebook.com/v14.0/1071637547061207/posts?access_token=EAAI11NX4O3kBACZBEMjFhwt76qbUl3sDFwh4RAeEqG2wvkYexZA78MnnIGV596BueW3ZA1csVAfZBesVSqRdeybIpAtbD6LnVYjPmHIJEErZBPFVF0xLhZCORT0FIq71aQlk3XrsRn8q3IoXx31Dg6b9E8Yqvuvd4XJrxdRfcmbrVeoFYMpBC4aHMGhru2NlZCO0UBmusw9N9ZAZCZBuIZCOTJTv3QrFrX1xQvZAFwHVkj251LarZCiFLqZBZCr&fields=caption%2Ccreated_time%2Cdescription&until=989046000&since&__paging_token=enc_AdBTEEvoOYTdabMZATaBawi4R454ZBZCpIdrVohxFjjaoxkb8gCn9mKK0rko6KxZBW7oTzJdCE9KaTHcqROwbWfq4C5PtgZBMIZCegFl9aGSWa39ZCfCyPP8ZBzzSXLe0ymig0X92ynYqmf1f5Yjfwtazqrq2uXP&__previous\"\n",
      " }\n",
      "}\n"
     ]
    }
   ],
   "source": [
    "pp(g.get_connections(id='me', connection_name='posts', fields='caption,created_time,description', limit='100'))"
   ]
  },
  {
   "cell_type": "code",
   "execution_count": null,
   "id": "7eb8bc04",
   "metadata": {},
   "outputs": [],
   "source": []
  }
 ],
 "metadata": {
  "kernelspec": {
   "display_name": "Python 3",
   "language": "python",
   "name": "python3"
  },
  "language_info": {
   "codemirror_mode": {
    "name": "ipython",
    "version": 3
   },
   "file_extension": ".py",
   "mimetype": "text/x-python",
   "name": "python",
   "nbconvert_exporter": "python",
   "pygments_lexer": "ipython3",
   "version": "3.8.8"
  }
 },
 "nbformat": 4,
 "nbformat_minor": 5
}
