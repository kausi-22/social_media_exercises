{
 "cells": [
  {
   "cell_type": "markdown",
   "metadata": {},
   "source": [
    "Roll No.: 215229145<br>Name.: Yokeshwaran G"
   ]
  },
  {
   "cell_type": "markdown",
   "metadata": {},
   "source": [
    "# Lab 5:Retrieving the user’s LinkedIn Profile and analysing the profile’s connections"
   ]
  },
  {
   "cell_type": "markdown",
   "metadata": {
    "id": "0IY2v5qyukJA"
   },
   "source": [
    "#**Profile Analysis**"
   ]
  },
  {
   "cell_type": "code",
   "execution_count": 1,
   "metadata": {
    "id": "v4KZYkvElVxM"
   },
   "outputs": [],
   "source": [
    "import os\n",
    "import csv\n",
    "import numpy as np\n",
    "\n",
    "# Point this to your 'Connections.csv' file.\n",
    "CSV_FILE = os.path.join('resources', 'ch04-linkedin', 'Connections.csv')\n",
    "\n",
    "csvReader = csv.DictReader(open(\"Connections.csv\"), delimiter=',', quotechar='\"')\n",
    "contacts = [row for row in csvReader]"
   ]
  },
  {
   "cell_type": "markdown",
   "metadata": {
    "id": "xSYo9DueqsCh"
   },
   "source": [
    "### Simple normalization of company suffixes from address book data\n"
   ]
  },
  {
   "cell_type": "code",
   "execution_count": 2,
   "metadata": {
    "colab": {
     "base_uri": "https://localhost:8080/"
    },
    "id": "lzEtYyYilVz9",
    "outputId": "8ca8dff5-5a30-43e5-f30f-6a9b87b6d5e9"
   },
   "outputs": [
    {
     "name": "stdout",
     "output_type": "stream",
     "text": [
      "+--------------------------------------------------+------+\n",
      "| Company                                          | Freq |\n",
      "+--------------------------------------------------+------+\n",
      "| Bishop Heber College, Tiruchirappalli - 620 017. | 9    |\n",
      "+--------------------------------------------------+------+\n"
     ]
    }
   ],
   "source": [
    "from prettytable import PrettyTable # pip install prettytable\n",
    "from collections import Counter\n",
    "from operator import itemgetter\n",
    "\n",
    "# Define a set of transforms that converts the first item\n",
    "# to the second item. Here, we're simply handling some\n",
    "# commonly known abbreviations, stripping off common suffixes, \n",
    "# etc.\n",
    "\n",
    "transforms = [(', Inc.', ''), (', Inc', ''), (', LLC', ''), (', LLP', ''),\n",
    "               (' LLC', ''), (' Inc.', ''), (' Inc', '')]\n",
    "\n",
    "companies = [c['Company'].strip() for c in contacts if c['Company'].strip() != '']\n",
    "\n",
    "for i, _ in enumerate(companies):\n",
    "    for transform in transforms:\n",
    "        companies[i] = companies[i].replace(*transform)\n",
    "\n",
    "pt = PrettyTable(field_names=['Company', 'Freq'])\n",
    "pt.align = 'l'\n",
    "c = Counter(companies)\n",
    "\n",
    "[pt.add_row([company, freq]) for (company, freq) in sorted(c.items(), key=itemgetter(1), reverse=True) if freq > 1]\n",
    "\n",
    "print(pt)\n"
   ]
  },
  {
   "cell_type": "markdown",
   "metadata": {
    "id": "rAdavuq_qzlo"
   },
   "source": [
    "### Standardizing common job titles and computing their frequencies"
   ]
  },
  {
   "cell_type": "code",
   "execution_count": 3,
   "metadata": {
    "colab": {
     "base_uri": "https://localhost:8080/"
    },
    "id": "whPJLG58RssK",
    "outputId": "00c55b4b-5400-4b46-cd3b-7ad1250ba5d8"
   },
   "outputs": [
    {
     "name": "stdout",
     "output_type": "stream",
     "text": [
      "+---------------------+------+\n",
      "| Job Title           | Freq |\n",
      "+---------------------+------+\n",
      "| Assistant Professor | 3    |\n",
      "| Guest Lecturer      | 2    |\n",
      "+---------------------+------+\n",
      "+-----------+------+\n",
      "| Token     | Freq |\n",
      "+-----------+------+\n",
      "| Professor | 5    |\n",
      "| Associate | 4    |\n",
      "| Data      | 3    |\n",
      "| Assistant | 3    |\n",
      "| Technical | 2    |\n",
      "| Intern    | 2    |\n",
      "| and       | 2    |\n",
      "| Founder   | 2    |\n",
      "| Business  | 2    |\n",
      "| Guest     | 2    |\n",
      "| Lecturer  | 2    |\n",
      "| Student   | 2    |\n",
      "| Trainee   | 2    |\n",
      "+-----------+------+\n"
     ]
    }
   ],
   "source": [
    "transforms = [\n",
    "    ('Sr.', 'Senior'),\n",
    "    ('Sr', 'Senior'),\n",
    "    ('Jr.', 'Junior'),\n",
    "    ('Jr', 'Junior'),\n",
    "    ('CEO', 'Chief Executive Officer'),\n",
    "    ('COO', 'Chief Operating Officer'),\n",
    "    ('CTO', 'Chief Technology Officer'),\n",
    "    ('CFO', 'Chief Finance Officer'),\n",
    "    ('VP', 'Vice President'),\n",
    "    ]\n",
    "\n",
    "# Read in a list of titles and split apart\n",
    "# any combined titles like \"President/CEO.\"\n",
    "# Other variations could be handled as well, such\n",
    "# as \"President & CEO\", \"President and CEO\", etc.\n",
    "\n",
    "titles = []\n",
    "for contact in contacts:\n",
    "    titles.extend([t.strip() for t in contact['Position'].split('/')\n",
    "                  if contact['Position'].strip() != ''])\n",
    "\n",
    "# Replace common/known abbreviations\n",
    "\n",
    "for i, _ in enumerate(titles):\n",
    "    for transform in transforms:\n",
    "        titles[i] = titles[i].replace(*transform)\n",
    "\n",
    "# Print out a table of titles sorted by frequency\n",
    "\n",
    "pt = PrettyTable(field_names=['Job Title', 'Freq'])\n",
    "pt.align = 'l'\n",
    "c = Counter(titles)\n",
    "[pt.add_row([title, freq]) \n",
    " for (title, freq) in sorted(c.items(), key=itemgetter(1), reverse=True) \n",
    "     if freq > 1]\n",
    "print(pt)\n",
    "\n",
    "# Print out a table of tokens sorted by frequency\n",
    "\n",
    "tokens = []\n",
    "for title in titles:\n",
    "    tokens.extend([t.strip(',') for t in title.split()])\n",
    "pt = PrettyTable(field_names=['Token', 'Freq'])\n",
    "pt.align = 'l'\n",
    "c = Counter(tokens)\n",
    "[pt.add_row([token, freq]) \n",
    " for (token, freq) in sorted(c.items(), key=itemgetter(1), reverse=True) \n",
    "     if freq > 1 and len(token) > 2]\n",
    "print(pt)"
   ]
  },
  {
   "cell_type": "markdown",
   "metadata": {
    "id": "o3ChaHgBq_y4"
   },
   "source": [
    "### Geocoding locations with Google Maps"
   ]
  },
  {
   "cell_type": "markdown",
   "metadata": {
    "id": "5MIRnAMovWrv"
   },
   "source": [
    "#### NOTE:This section contains no locations because there is no geocode generated"
   ]
  },
  {
   "cell_type": "code",
   "execution_count": 4,
   "metadata": {
    "colab": {
     "base_uri": "https://localhost:8080/"
    },
    "id": "fK4p4MGwljMM",
    "outputId": "06036e5c-9ee0-43b1-fec7-2d169acb830e"
   },
   "outputs": [
    {
     "name": "stdout",
     "output_type": "stream",
     "text": [
      "... Failed to get a location for Synapse Business Systems Inc \n",
      "  1 of  68 - Synapse Business Systems Inc  -- Unknown Location\n",
      "... Failed to get a location for Ford Motor Company\n",
      "  2 of  68 - Ford Motor Company -- Unknown Location\n",
      "... Failed to get a location for \n",
      "  3 of  68 -  -- Unknown Location\n",
      "... Failed to get a location for \n",
      "  4 of  68 -  -- Unknown Location\n",
      "... Failed to get a location for \n",
      "  5 of  68 -  -- Unknown Location\n",
      "... Failed to get a location for \n",
      "  6 of  68 -  -- Unknown Location\n",
      "... Failed to get a location for Bishop Heber College, Tiruchirappalli - 620 017.\n",
      "  7 of  68 - Bishop Heber College, Tiruchirappalli - 620 017. -- Unknown Location\n",
      "... Failed to get a location for \n",
      "  8 of  68 -  -- Unknown Location\n",
      "... Failed to get a location for \n",
      "  9 of  68 -  -- Unknown Location\n",
      "... Failed to get a location for \n",
      " 10 of  68 -  -- Unknown Location\n",
      "... Failed to get a location for \n",
      " 11 of  68 -  -- Unknown Location\n",
      "... Failed to get a location for Bishop Heber College, Tiruchirappalli - 620 017.\n",
      " 12 of  68 - Bishop Heber College, Tiruchirappalli - 620 017. -- Unknown Location\n",
      "... Failed to get a location for Bishop Heber College, Tiruchirappalli - 620 017.\n",
      " 13 of  68 - Bishop Heber College, Tiruchirappalli - 620 017. -- Unknown Location\n",
      "... Failed to get a location for \n",
      " 14 of  68 -  -- Unknown Location\n",
      "... Failed to get a location for \n",
      " 15 of  68 -  -- Unknown Location\n",
      "... Failed to get a location for \n",
      " 16 of  68 -  -- Unknown Location\n",
      "... Failed to get a location for Superprof\n",
      " 17 of  68 - Superprof -- Unknown Location\n",
      "... Failed to get a location for \n",
      " 18 of  68 -  -- Unknown Location\n",
      "... Failed to get a location for \n",
      " 19 of  68 -  -- Unknown Location\n",
      "... Failed to get a location for \n",
      " 20 of  68 -  -- Unknown Location\n",
      "... Failed to get a location for \n",
      " 21 of  68 -  -- Unknown Location\n",
      "... Failed to get a location for \n",
      " 22 of  68 -  -- Unknown Location\n",
      "... Failed to get a location for Learn and Build\n",
      " 23 of  68 - Learn and Build -- Unknown Location\n",
      "... Failed to get a location for MENMOZHI TECHNOLOGIES\n",
      " 24 of  68 - MENMOZHI TECHNOLOGIES -- Unknown Location\n",
      "... Failed to get a location for \n",
      " 25 of  68 -  -- Unknown Location\n",
      "... Failed to get a location for \n",
      " 26 of  68 -  -- Unknown Location\n",
      "... Failed to get a location for Tech Mahindra\n",
      " 27 of  68 - Tech Mahindra -- Unknown Location\n",
      "... Failed to get a location for \n",
      " 28 of  68 -  -- Unknown Location\n",
      "... Failed to get a location for tidylifeindia\n",
      " 29 of  68 - tidylifeindia -- Unknown Location\n",
      "... Failed to get a location for \n",
      " 30 of  68 -  -- Unknown Location\n",
      "... Failed to get a location for \n",
      " 31 of  68 -  -- Unknown Location\n",
      "... Failed to get a location for \n",
      " 32 of  68 -  -- Unknown Location\n",
      "... Failed to get a location for Actify Data Labs\n",
      " 33 of  68 - Actify Data Labs -- Unknown Location\n",
      "... Failed to get a location for \n",
      " 34 of  68 -  -- Unknown Location\n",
      "... Failed to get a location for \n",
      " 35 of  68 -  -- Unknown Location\n",
      "... Failed to get a location for Bishop Heber College, Tiruchirappalli - 620 017.\n",
      " 36 of  68 - Bishop Heber College, Tiruchirappalli - 620 017. -- Unknown Location\n",
      "... Failed to get a location for \n",
      " 37 of  68 -  -- Unknown Location\n",
      "... Failed to get a location for \n",
      " 38 of  68 -  -- Unknown Location\n",
      "... Failed to get a location for \n",
      " 39 of  68 -  -- Unknown Location\n",
      "... Failed to get a location for \n",
      " 40 of  68 -  -- Unknown Location\n",
      "... Failed to get a location for Bishop Heber College, Tiruchirappalli - 620 017.\n",
      " 41 of  68 - Bishop Heber College, Tiruchirappalli - 620 017. -- Unknown Location\n",
      "... Failed to get a location for Bishop Heber College, Tiruchirappalli - 620 017.\n",
      " 42 of  68 - Bishop Heber College, Tiruchirappalli - 620 017. -- Unknown Location\n",
      "... Failed to get a location for Kissflow\n",
      " 43 of  68 - Kissflow -- Unknown Location\n",
      "... Failed to get a location for \n",
      " 44 of  68 -  -- Unknown Location\n",
      "... Failed to get a location for \n",
      " 45 of  68 -  -- Unknown Location\n",
      "... Failed to get a location for \n",
      " 46 of  68 -  -- Unknown Location\n",
      "... Failed to get a location for Bishop Heber College, Tiruchirappalli - 620 017.\n",
      " 47 of  68 - Bishop Heber College, Tiruchirappalli - 620 017. -- Unknown Location\n",
      "... Failed to get a location for \n",
      " 48 of  68 -  -- Unknown Location\n",
      "... Failed to get a location for MentorBoxx\n",
      " 49 of  68 - MentorBoxx -- Unknown Location\n",
      "... Failed to get a location for Urban Company\n",
      " 50 of  68 - Urban Company -- Unknown Location\n",
      "... Failed to get a location for Bishop Heber College, Tiruchirappalli - 620 017.\n",
      " 51 of  68 - Bishop Heber College, Tiruchirappalli - 620 017. -- Unknown Location\n",
      "... Failed to get a location for Wipro\n",
      " 52 of  68 - Wipro -- Unknown Location\n",
      "... Failed to get a location for \n",
      " 53 of  68 -  -- Unknown Location\n",
      "... Failed to get a location for \n",
      " 54 of  68 -  -- Unknown Location\n",
      "... Failed to get a location for Bishop Heber College, Trichy\n",
      " 55 of  68 - Bishop Heber College, Trichy -- Unknown Location\n",
      "... Failed to get a location for \n",
      " 56 of  68 -  -- Unknown Location\n",
      "... Failed to get a location for Bishop Heber College, Tiruchirappalli - 620 017.\n",
      " 57 of  68 - Bishop Heber College, Tiruchirappalli - 620 017. -- Unknown Location\n",
      "... Failed to get a location for \n",
      " 58 of  68 -  -- Unknown Location\n",
      "... Failed to get a location for Cognizant\n",
      " 59 of  68 - Cognizant -- Unknown Location\n",
      "... Failed to get a location for Diamondpick\n",
      " 60 of  68 - Diamondpick -- Unknown Location\n",
      "... Failed to get a location for \n",
      " 61 of  68 -  -- Unknown Location\n",
      "... Failed to get a location for Prowisdom Growth Pvt Ltd\n",
      " 62 of  68 - Prowisdom Growth Pvt Ltd -- Unknown Location\n",
      "... Failed to get a location for \n",
      " 63 of  68 -  -- Unknown Location\n",
      "... Failed to get a location for GAVS Technologies\n",
      " 64 of  68 - GAVS Technologies -- Unknown Location\n",
      "... Failed to get a location for Multibhashi\n",
      " 65 of  68 - Multibhashi -- Unknown Location\n",
      "... Failed to get a location for Department of Computer Science, Bishop Heber College (Autonomous)\n",
      " 66 of  68 - Department of Computer Science, Bishop Heber Colle -- Unknown Location\n",
      "... Failed to get a location for \n",
      " 67 of  68 -  -- Unknown Location\n",
      "... Failed to get a location for \n",
      " 68 of  68 -  -- Unknown Location\n"
     ]
    }
   ],
   "source": [
    "for i, c in enumerate(contacts):\n",
    "    progress = '{0:3d} of {1:3d} - '.format(i+1,len(contacts))\n",
    "    company = c['Company']\n",
    "    try:\n",
    "        location = g.geocode(company, exactly_one=True)\n",
    "    except:\n",
    "        print('... Failed to get a location for {0}'.format(company))\n",
    "        location = None\n",
    "    \n",
    "    if location != None:\n",
    "        c.update([('Location', location)])\n",
    "        print(progress + company[:50] + ' -- ' + location.address)\n",
    "    else:\n",
    "        c.update([('Location', None)])\n",
    "        print(progress + company[:50] + ' -- ' + 'Unknown Location')"
   ]
  }
 ],
 "metadata": {
  "colab": {
   "collapsed_sections": [],
   "name": "SMA_Lab6_42.ipynb",
   "provenance": []
  },
  "kernelspec": {
   "display_name": "Python 3",
   "language": "python",
   "name": "python3"
  },
  "language_info": {
   "codemirror_mode": {
    "name": "ipython",
    "version": 3
   },
   "file_extension": ".py",
   "mimetype": "text/x-python",
   "name": "python",
   "nbconvert_exporter": "python",
   "pygments_lexer": "ipython3",
   "version": "3.8.8"
  }
 },
 "nbformat": 4,
 "nbformat_minor": 1
}
